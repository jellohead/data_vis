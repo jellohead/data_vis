{
 "cells": [
  {
   "cell_type": "code",
   "execution_count": 3,
   "metadata": {},
   "outputs": [
    {
     "name": "stdout",
     "output_type": "stream",
     "text": [
      "Dash is running on http://127.0.0.1:8050/\n",
      "\n",
      " * Serving Flask app '__main__'\n",
      " * Debug mode: on\n"
     ]
    }
   ],
   "source": [
    "# Dashboard example\n",
    "# https://towardsdatascience.com/plotly-dashboards-in-python-28a3bb83702c\n",
    "\n",
    "import dash\n",
    "from dash import dcc\n",
    "from dash import html\n",
    "import plotly.express as px\n",
    "import pandas as pd\n",
    "\n",
    "app = dash.Dash()\n",
    "\n",
    "df = pd.read_csv('life_expectancy.csv')\n",
    "\n",
    "fig = px.scatter(\n",
    "    df,\n",
    "    x=\"GDP\",\n",
    "    y=\"Life expectancy\",\n",
    "    size=\"Population\",\n",
    "    color=\"continent\",\n",
    "    hover_name=\"Country\",\n",
    "    log_x=True,\n",
    "    size_max=60\n",
    "    )\n",
    "\n",
    "app.layout = html.Div([dcc.Graph(id=\"life-exp-vs-gdp\", figure=fig)])\n",
    "\n",
    "if __name__ == \"__main__\":\n",
    "    app.run_server(debug=True, use_reloader=False)"
   ]
  },
  {
   "attachments": {},
   "cell_type": "markdown",
   "metadata": {},
   "source": [
    "### Dash slider example"
   ]
  },
  {
   "cell_type": "code",
   "execution_count": 2,
   "metadata": {},
   "outputs": [
    {
     "name": "stdout",
     "output_type": "stream",
     "text": [
      "Dash is running on http://127.0.0.1:8050/\n",
      "\n",
      " * Serving Flask app '__main__'\n",
      " * Debug mode: on\n"
     ]
    }
   ],
   "source": [
    "from dash import Dash, dcc, html\n",
    "\n",
    "app = Dash(__name__)\n",
    "\n",
    "app.layout = html.Div([\n",
    "    dcc.Slider(-5, 10, 1, value=-3)\n",
    "])\n",
    "\n",
    "if __name__ == '__main__':\n",
    "    # have to include use_reloader=False to get this to run. Why?\n",
    "    app.run_server(debug=True, use_reloader=False)"
   ]
  },
  {
   "attachments": {},
   "cell_type": "markdown",
   "metadata": {},
   "source": [
    "#### Same app with more widgets"
   ]
  },
  {
   "cell_type": "code",
   "execution_count": 14,
   "metadata": {},
   "outputs": [
    {
     "ename": "TypeError",
     "evalue": "Slider.__init__() got multiple values for argument 'min'",
     "output_type": "error",
     "traceback": [
      "\u001b[0;31m---------------------------------------------------------------------------\u001b[0m",
      "\u001b[0;31mTypeError\u001b[0m                                 Traceback (most recent call last)",
      "\u001b[1;32m/Users/patescalona/Projects/Coding/python/data_vis/data-visualizations.ipynb Cell 5\u001b[0m in \u001b[0;36m5\n\u001b[1;32m     <a href='vscode-notebook-cell:/Users/patescalona/Projects/Coding/python/data_vis/data-visualizations.ipynb#W3sZmlsZQ%3D%3D?line=12'>13</a>\u001b[0m df \u001b[39m=\u001b[39m pd\u001b[39m.\u001b[39mread_csv(\u001b[39m'\u001b[39m\u001b[39mlife_expectancy.csv\u001b[39m\u001b[39m'\u001b[39m)\n\u001b[1;32m     <a href='vscode-notebook-cell:/Users/patescalona/Projects/Coding/python/data_vis/data-visualizations.ipynb#W3sZmlsZQ%3D%3D?line=14'>15</a>\u001b[0m fig \u001b[39m=\u001b[39m px\u001b[39m.\u001b[39mscatter(\n\u001b[1;32m     <a href='vscode-notebook-cell:/Users/patescalona/Projects/Coding/python/data_vis/data-visualizations.ipynb#W3sZmlsZQ%3D%3D?line=15'>16</a>\u001b[0m     df,\n\u001b[1;32m     <a href='vscode-notebook-cell:/Users/patescalona/Projects/Coding/python/data_vis/data-visualizations.ipynb#W3sZmlsZQ%3D%3D?line=16'>17</a>\u001b[0m     x\u001b[39m=\u001b[39m\u001b[39m\"\u001b[39m\u001b[39mGDP\u001b[39m\u001b[39m\"\u001b[39m,\n\u001b[0;32m   (...)\u001b[0m\n\u001b[1;32m     <a href='vscode-notebook-cell:/Users/patescalona/Projects/Coding/python/data_vis/data-visualizations.ipynb#W3sZmlsZQ%3D%3D?line=22'>23</a>\u001b[0m     size_max\u001b[39m=\u001b[39m\u001b[39m60\u001b[39m\n\u001b[1;32m     <a href='vscode-notebook-cell:/Users/patescalona/Projects/Coding/python/data_vis/data-visualizations.ipynb#W3sZmlsZQ%3D%3D?line=23'>24</a>\u001b[0m     )\n\u001b[1;32m     <a href='vscode-notebook-cell:/Users/patescalona/Projects/Coding/python/data_vis/data-visualizations.ipynb#W3sZmlsZQ%3D%3D?line=25'>26</a>\u001b[0m app\u001b[39m.\u001b[39mlayout \u001b[39m=\u001b[39m html\u001b[39m.\u001b[39mDiv(\n\u001b[1;32m     <a href='vscode-notebook-cell:/Users/patescalona/Projects/Coding/python/data_vis/data-visualizations.ipynb#W3sZmlsZQ%3D%3D?line=26'>27</a>\u001b[0m     [\n\u001b[1;32m     <a href='vscode-notebook-cell:/Users/patescalona/Projects/Coding/python/data_vis/data-visualizations.ipynb#W3sZmlsZQ%3D%3D?line=27'>28</a>\u001b[0m         \u001b[39m# Dropdown to filter developing/developed country\u001b[39;00m\n\u001b[1;32m     <a href='vscode-notebook-cell:/Users/patescalona/Projects/Coding/python/data_vis/data-visualizations.ipynb#W3sZmlsZQ%3D%3D?line=28'>29</a>\u001b[0m         html\u001b[39m.\u001b[39mDiv(\n\u001b[1;32m     <a href='vscode-notebook-cell:/Users/patescalona/Projects/Coding/python/data_vis/data-visualizations.ipynb#W3sZmlsZQ%3D%3D?line=29'>30</a>\u001b[0m             [\n\u001b[1;32m     <a href='vscode-notebook-cell:/Users/patescalona/Projects/Coding/python/data_vis/data-visualizations.ipynb#W3sZmlsZQ%3D%3D?line=30'>31</a>\u001b[0m                 dcc\u001b[39m.\u001b[39mDropdown(\n\u001b[1;32m     <a href='vscode-notebook-cell:/Users/patescalona/Projects/Coding/python/data_vis/data-visualizations.ipynb#W3sZmlsZQ%3D%3D?line=31'>32</a>\u001b[0m                     \u001b[39mid\u001b[39m\u001b[39m=\u001b[39m\u001b[39m\"\u001b[39m\u001b[39mstatus-dropdown\u001b[39m\u001b[39m\"\u001b[39m,\n\u001b[1;32m     <a href='vscode-notebook-cell:/Users/patescalona/Projects/Coding/python/data_vis/data-visualizations.ipynb#W3sZmlsZQ%3D%3D?line=32'>33</a>\u001b[0m                     options\u001b[39m=\u001b[39m[{\u001b[39m\"\u001b[39m\u001b[39mlabel\u001b[39m\u001b[39m\"\u001b[39m: s, \u001b[39m\"\u001b[39m\u001b[39mvalue\u001b[39m\u001b[39m\"\u001b[39m: s} \u001b[39mfor\u001b[39;00m s \u001b[39min\u001b[39;00m df\u001b[39m.\u001b[39mStatus\u001b[39m.\u001b[39munique()], \n\u001b[1;32m     <a href='vscode-notebook-cell:/Users/patescalona/Projects/Coding/python/data_vis/data-visualizations.ipynb#W3sZmlsZQ%3D%3D?line=33'>34</a>\u001b[0m                 ),\n\u001b[1;32m     <a href='vscode-notebook-cell:/Users/patescalona/Projects/Coding/python/data_vis/data-visualizations.ipynb#W3sZmlsZQ%3D%3D?line=34'>35</a>\u001b[0m             ]\n\u001b[1;32m     <a href='vscode-notebook-cell:/Users/patescalona/Projects/Coding/python/data_vis/data-visualizations.ipynb#W3sZmlsZQ%3D%3D?line=35'>36</a>\u001b[0m         ),\n\u001b[1;32m     <a href='vscode-notebook-cell:/Users/patescalona/Projects/Coding/python/data_vis/data-visualizations.ipynb#W3sZmlsZQ%3D%3D?line=36'>37</a>\u001b[0m         \u001b[39m# Dropdown to filter countries with average schooling years\u001b[39;00m\n\u001b[1;32m     <a href='vscode-notebook-cell:/Users/patescalona/Projects/Coding/python/data_vis/data-visualizations.ipynb#W3sZmlsZQ%3D%3D?line=37'>38</a>\u001b[0m         html\u001b[39m.\u001b[39mDiv([\n\u001b[1;32m     <a href='vscode-notebook-cell:/Users/patescalona/Projects/Coding/python/data_vis/data-visualizations.ipynb#W3sZmlsZQ%3D%3D?line=38'>39</a>\u001b[0m             dcc\u001b[39m.\u001b[39mDropdown(\n\u001b[1;32m     <a href='vscode-notebook-cell:/Users/patescalona/Projects/Coding/python/data_vis/data-visualizations.ipynb#W3sZmlsZQ%3D%3D?line=39'>40</a>\u001b[0m                 \u001b[39mid\u001b[39m\u001b[39m=\u001b[39m\u001b[39m\"\u001b[39m\u001b[39mschooling-dropdown\u001b[39m\u001b[39m\"\u001b[39m,\n\u001b[1;32m     <a href='vscode-notebook-cell:/Users/patescalona/Projects/Coding/python/data_vis/data-visualizations.ipynb#W3sZmlsZQ%3D%3D?line=40'>41</a>\u001b[0m                 options\u001b[39m=\u001b[39m[\n\u001b[1;32m     <a href='vscode-notebook-cell:/Users/patescalona/Projects/Coding/python/data_vis/data-visualizations.ipynb#W3sZmlsZQ%3D%3D?line=41'>42</a>\u001b[0m                     {\u001b[39m\"\u001b[39m\u001b[39mlabel\u001b[39m\u001b[39m\"\u001b[39m: y, \u001b[39m\"\u001b[39m\u001b[39mvalue\u001b[39m\u001b[39m\"\u001b[39m: y}\n\u001b[1;32m     <a href='vscode-notebook-cell:/Users/patescalona/Projects/Coding/python/data_vis/data-visualizations.ipynb#W3sZmlsZQ%3D%3D?line=42'>43</a>\u001b[0m                     \u001b[39mfor\u001b[39;00m y \u001b[39min\u001b[39;00m \u001b[39mrange\u001b[39m(\n\u001b[1;32m     <a href='vscode-notebook-cell:/Users/patescalona/Projects/Coding/python/data_vis/data-visualizations.ipynb#W3sZmlsZQ%3D%3D?line=43'>44</a>\u001b[0m                         \u001b[39mint\u001b[39m(df\u001b[39m.\u001b[39mSchooling\u001b[39m.\u001b[39mmin()), \u001b[39mint\u001b[39m(df\u001b[39m.\u001b[39mSchooling\u001b[39m.\u001b[39mmax()) \u001b[39m+\u001b[39m \u001b[39m1\u001b[39m\n\u001b[1;32m     <a href='vscode-notebook-cell:/Users/patescalona/Projects/Coding/python/data_vis/data-visualizations.ipynb#W3sZmlsZQ%3D%3D?line=44'>45</a>\u001b[0m                         )\n\u001b[1;32m     <a href='vscode-notebook-cell:/Users/patescalona/Projects/Coding/python/data_vis/data-visualizations.ipynb#W3sZmlsZQ%3D%3D?line=45'>46</a>\u001b[0m                     ],\n\u001b[1;32m     <a href='vscode-notebook-cell:/Users/patescalona/Projects/Coding/python/data_vis/data-visualizations.ipynb#W3sZmlsZQ%3D%3D?line=46'>47</a>\u001b[0m                 ),\n\u001b[1;32m     <a href='vscode-notebook-cell:/Users/patescalona/Projects/Coding/python/data_vis/data-visualizations.ipynb#W3sZmlsZQ%3D%3D?line=47'>48</a>\u001b[0m             ]\n\u001b[1;32m     <a href='vscode-notebook-cell:/Users/patescalona/Projects/Coding/python/data_vis/data-visualizations.ipynb#W3sZmlsZQ%3D%3D?line=48'>49</a>\u001b[0m         ),\n\u001b[1;32m     <a href='vscode-notebook-cell:/Users/patescalona/Projects/Coding/python/data_vis/data-visualizations.ipynb#W3sZmlsZQ%3D%3D?line=49'>50</a>\u001b[0m         \u001b[39m# Placeholder to render the chart\u001b[39;00m\n\u001b[1;32m     <a href='vscode-notebook-cell:/Users/patescalona/Projects/Coding/python/data_vis/data-visualizations.ipynb#W3sZmlsZQ%3D%3D?line=50'>51</a>\u001b[0m         html\u001b[39m.\u001b[39mDiv(dcc\u001b[39m.\u001b[39mGraph(\u001b[39mid\u001b[39m\u001b[39m=\u001b[39m\u001b[39m\"\u001b[39m\u001b[39mlife-exp-vs-gdp\u001b[39m\u001b[39m\"\u001b[39m), className\u001b[39m=\u001b[39m\u001b[39m\"\u001b[39m\u001b[39mchart\u001b[39m\u001b[39m\"\u001b[39m),\n\u001b[1;32m     <a href='vscode-notebook-cell:/Users/patescalona/Projects/Coding/python/data_vis/data-visualizations.ipynb#W3sZmlsZQ%3D%3D?line=51'>52</a>\u001b[0m         \u001b[39m# Slider to select year.\u001b[39;00m\n\u001b[0;32m---> <a href='vscode-notebook-cell:/Users/patescalona/Projects/Coding/python/data_vis/data-visualizations.ipynb#W3sZmlsZQ%3D%3D?line=52'>53</a>\u001b[0m         dcc\u001b[39m.\u001b[39mSlider(\n\u001b[1;32m     <a href='vscode-notebook-cell:/Users/patescalona/Projects/Coding/python/data_vis/data-visualizations.ipynb#W3sZmlsZQ%3D%3D?line=53'>54</a>\u001b[0m             \u001b[39m\"\u001b[39m\u001b[39myear-slider\u001b[39m\u001b[39m\"\u001b[39m,\n\u001b[1;32m     <a href='vscode-notebook-cell:/Users/patescalona/Projects/Coding/python/data_vis/data-visualizations.ipynb#W3sZmlsZQ%3D%3D?line=54'>55</a>\u001b[0m             \u001b[39mmin\u001b[39m\u001b[39m=\u001b[39mdf\u001b[39m.\u001b[39mYear\u001b[39m.\u001b[39mmin(), \u001b[39m# dynamically select minimum and maximum years from the dataset.\u001b[39;00m\n\u001b[1;32m     <a href='vscode-notebook-cell:/Users/patescalona/Projects/Coding/python/data_vis/data-visualizations.ipynb#W3sZmlsZQ%3D%3D?line=55'>56</a>\u001b[0m             \u001b[39mmax\u001b[39m\u001b[39m=\u001b[39mdf\u001b[39m.\u001b[39mYear\u001b[39m.\u001b[39mmax(),\n\u001b[1;32m     <a href='vscode-notebook-cell:/Users/patescalona/Projects/Coding/python/data_vis/data-visualizations.ipynb#W3sZmlsZQ%3D%3D?line=56'>57</a>\u001b[0m             step\u001b[39m=\u001b[39m\u001b[39mNone\u001b[39;00m,\n\u001b[1;32m     <a href='vscode-notebook-cell:/Users/patescalona/Projects/Coding/python/data_vis/data-visualizations.ipynb#W3sZmlsZQ%3D%3D?line=57'>58</a>\u001b[0m             marks\u001b[39m=\u001b[39m{year: \u001b[39mstr\u001b[39m(year) \u001b[39mfor\u001b[39;00m year \u001b[39min\u001b[39;00m \u001b[39mrange\u001b[39m(df\u001b[39m.\u001b[39mYear\u001b[39m.\u001b[39mmin(), df\u001b[39m.\u001b[39mYear\u001b[39m.\u001b[39mmax() \u001b[39m+\u001b[39m \u001b[39m1\u001b[39m)}, \u001b[39m# set markers at one year interval.\u001b[39;00m\n\u001b[1;32m     <a href='vscode-notebook-cell:/Users/patescalona/Projects/Coding/python/data_vis/data-visualizations.ipynb#W3sZmlsZQ%3D%3D?line=58'>59</a>\u001b[0m             value\u001b[39m=\u001b[39mdf\u001b[39m.\u001b[39mYear\u001b[39m.\u001b[39mmin(),\n\u001b[1;32m     <a href='vscode-notebook-cell:/Users/patescalona/Projects/Coding/python/data_vis/data-visualizations.ipynb#W3sZmlsZQ%3D%3D?line=59'>60</a>\u001b[0m         ),\n\u001b[1;32m     <a href='vscode-notebook-cell:/Users/patescalona/Projects/Coding/python/data_vis/data-visualizations.ipynb#W3sZmlsZQ%3D%3D?line=60'>61</a>\u001b[0m     ],\n\u001b[1;32m     <a href='vscode-notebook-cell:/Users/patescalona/Projects/Coding/python/data_vis/data-visualizations.ipynb#W3sZmlsZQ%3D%3D?line=61'>62</a>\u001b[0m     className\u001b[39m=\u001b[39m\u001b[39m\"\u001b[39m\u001b[39mcontainer\u001b[39m\u001b[39m\"\u001b[39m,\n\u001b[1;32m     <a href='vscode-notebook-cell:/Users/patescalona/Projects/Coding/python/data_vis/data-visualizations.ipynb#W3sZmlsZQ%3D%3D?line=62'>63</a>\u001b[0m )\n\u001b[1;32m     <a href='vscode-notebook-cell:/Users/patescalona/Projects/Coding/python/data_vis/data-visualizations.ipynb#W3sZmlsZQ%3D%3D?line=64'>65</a>\u001b[0m \u001b[39m@app\u001b[39m\u001b[39m.\u001b[39mcallback(\n\u001b[1;32m     <a href='vscode-notebook-cell:/Users/patescalona/Projects/Coding/python/data_vis/data-visualizations.ipynb#W3sZmlsZQ%3D%3D?line=65'>66</a>\u001b[0m     Output(\u001b[39m\"\u001b[39m\u001b[39mlife-exp-vs-gdp\u001b[39m\u001b[39m\"\u001b[39m, \u001b[39m\"\u001b[39m\u001b[39mfigure\u001b[39m\u001b[39m\"\u001b[39m),\n\u001b[1;32m     <a href='vscode-notebook-cell:/Users/patescalona/Projects/Coding/python/data_vis/data-visualizations.ipynb#W3sZmlsZQ%3D%3D?line=66'>67</a>\u001b[0m     Input(\u001b[39m\"\u001b[39m\u001b[39myear-slider\u001b[39m\u001b[39m\"\u001b[39m, \u001b[39m\"\u001b[39m\u001b[39mvalue\u001b[39m\u001b[39m\"\u001b[39m),\n\u001b[0;32m   (...)\u001b[0m\n\u001b[1;32m     <a href='vscode-notebook-cell:/Users/patescalona/Projects/Coding/python/data_vis/data-visualizations.ipynb#W3sZmlsZQ%3D%3D?line=69'>70</a>\u001b[0m )\n\u001b[1;32m     <a href='vscode-notebook-cell:/Users/patescalona/Projects/Coding/python/data_vis/data-visualizations.ipynb#W3sZmlsZQ%3D%3D?line=70'>71</a>\u001b[0m \u001b[39mdef\u001b[39;00m \u001b[39mupdate_figure\u001b[39m(selected_year, country_status, schooling):\n\u001b[1;32m     <a href='vscode-notebook-cell:/Users/patescalona/Projects/Coding/python/data_vis/data-visualizations.ipynb#W3sZmlsZQ%3D%3D?line=71'>72</a>\u001b[0m     filtered_dataset \u001b[39m=\u001b[39m df[(df\u001b[39m.\u001b[39mYear \u001b[39m==\u001b[39m selected_year)]\n",
      "File \u001b[0;32m/Library/Frameworks/Python.framework/Versions/3.10/lib/python3.10/site-packages/dash/development/base_component.py:420\u001b[0m, in \u001b[0;36m_explicitize_args.<locals>.wrapper\u001b[0;34m(*args, **kwargs)\u001b[0m\n\u001b[1;32m    418\u001b[0m \u001b[39mif\u001b[39;00m \u001b[39m\"\u001b[39m\u001b[39mself\u001b[39m\u001b[39m\"\u001b[39m \u001b[39min\u001b[39;00m kwargs[\u001b[39m\"\u001b[39m\u001b[39m_explicit_args\u001b[39m\u001b[39m\"\u001b[39m]:\n\u001b[1;32m    419\u001b[0m     kwargs[\u001b[39m\"\u001b[39m\u001b[39m_explicit_args\u001b[39m\u001b[39m\"\u001b[39m]\u001b[39m.\u001b[39mremove(\u001b[39m\"\u001b[39m\u001b[39mself\u001b[39m\u001b[39m\"\u001b[39m)\n\u001b[0;32m--> 420\u001b[0m \u001b[39mreturn\u001b[39;00m func(\u001b[39m*\u001b[39;49margs, \u001b[39m*\u001b[39;49m\u001b[39m*\u001b[39;49mkwargs)\n",
      "\u001b[0;31mTypeError\u001b[0m: Slider.__init__() got multiple values for argument 'min'"
     ]
    }
   ],
   "source": [
    "# Dashboard example\n",
    "# https://towardsdatascience.com/plotly-dashboards-in-python-28a3bb83702c\n",
    "\n",
    "import dash\n",
    "import dash_core_components as dcc\n",
    "import dash_html_components as html\n",
    "from dash_html_components.Label import Label\n",
    "from pandas.io.formats import style\n",
    "import plotly.express as px\n",
    "import pandas as pd\n",
    "from dash.dependencies import Input, Output\n",
    "\n",
    "app = dash.Dash(\n",
    "    __name__,\n",
    ")\n",
    "\n",
    "df = pd.read_csv('life_expectancy.csv')\n",
    "\n",
    "colors = {\"background\": \"#011833\", \"text\": \"#7FDBFF\"}\n",
    "\n",
    "app.layout = html.Div(\n",
    "    [\n",
    "        html.H1(\n",
    "            \"My Amazing Dashboard\",\n",
    "        ),\n",
    "        html.Div(\n",
    "            [\n",
    "                html.Div(\n",
    "                    [\n",
    "                        html.Label\n",
    "                        \n",
    "                        ]\n",
    "    )\n",
    "                ]\n",
    "    )\n",
    "        # Dropdown to filter developing/developed country\n",
    "        html.Div(\n",
    "            [\n",
    "                dcc.Dropdown(\n",
    "                    id=\"status-dropdown\",\n",
    "                    options=[{\"label\": s, \"value\": s} for s in df.Status.unique()], \n",
    "                ),\n",
    "            ]\n",
    "        ),\n",
    "        # Dropdown to filter countries with average schooling years\n",
    "        html.Div([\n",
    "            dcc.Dropdown(\n",
    "                id=\"schooling-dropdown\",\n",
    "                options=[\n",
    "                    {\"label\": y, \"value\": y}\n",
    "                    for y in range(\n",
    "                        int(df.Schooling.min()), int(df.Schooling.max()) + 1\n",
    "                        )\n",
    "                    ],\n",
    "                ),\n",
    "            ]\n",
    "        ),\n",
    "        # Placeholder to render the chart\n",
    "        html.Div(dcc.Graph(id=\"life-exp-vs-gdp\"), className=\"chart\"),\n",
    "        # Slider to select year.\n",
    "        dcc.Slider(\n",
    "            \"year-slider\",\n",
    "            min=df.Year.min(), # dynamically select minimum and maximum years from the dataset.\n",
    "            max=df.Year.max(),\n",
    "            step=None,\n",
    "            marks={year: str(year) for year in range(df.Year.min(), df.Year.max() + 1)}, # set markers at one year interval.\n",
    "            value=df.Year.min(),\n",
    "        ),\n",
    "    ],\n",
    "    className=\"container\",\n",
    ")\n",
    "\n",
    "@app.callback(\n",
    "    Output(\"life-exp-vs-gdp\", \"figure\"),\n",
    "    Input(\"year-slider\", \"value\"),\n",
    "    Input(\"status-dropdown\", \"value\"),\n",
    "    Input(\"schooling-dropdown\", \"value\"),\n",
    ")\n",
    "def update_figure(selected_year, country_status, schooling):\n",
    "    filtered_dataset = df[(df.Year == selected_year)]\n",
    "\n",
    "    if schooling:\n",
    "        filtered_dataset = filtered_dataset[filtered_dataset.Schooling <= schooling]\n",
    "\n",
    "    if country_status:\n",
    "        filtered_dataset = filtered_dataset[filtered_dataset.Status == country_status]\n",
    "\n",
    "    fig = px.scatter(\n",
    "        filtered_dataset,\n",
    "        x=\"GDP\",\n",
    "        y=\"Life expectancy\",\n",
    "        size=\"Population\",\n",
    "        color=\"continent\",\n",
    "        hover_name=\"Country\",\n",
    "        log_x=True,\n",
    "        size_max=60,\n",
    "    )\n",
    "\n",
    "    fig.update_layout(\n",
    "        plot_bgcolor=colors[\"background\"],\n",
    "        paper_bgcolor=colors[\"background\"],\n",
    "        font_color=colors[\"text\"],\n",
    "    )\n",
    "\n",
    "    return fig\n",
    "\n",
    "\n",
    "if __name__ == \"__main__\":\n",
    "    app.run_server(debug=True, use_reloader=False)"
   ]
  }
 ],
 "metadata": {
  "kernelspec": {
   "display_name": "Python 3",
   "language": "python",
   "name": "python3"
  },
  "language_info": {
   "codemirror_mode": {
    "name": "ipython",
    "version": 3
   },
   "file_extension": ".py",
   "mimetype": "text/x-python",
   "name": "python",
   "nbconvert_exporter": "python",
   "pygments_lexer": "ipython3",
   "version": "3.10.6"
  },
  "orig_nbformat": 4,
  "vscode": {
   "interpreter": {
    "hash": "aee8b7b246df8f9039afb4144a1f6fd8d2ca17a180786b69acc140d282b71a49"
   }
  }
 },
 "nbformat": 4,
 "nbformat_minor": 2
}
